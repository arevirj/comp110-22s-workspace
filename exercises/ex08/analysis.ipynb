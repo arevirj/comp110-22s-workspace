{
 "cells": [
  {
   "cell_type": "markdown",
   "metadata": {},
   "source": [
    "# Analysis for Continuous Improvement\n",
    "\n",
    "Author Name: Justin Rivera\n",
    "\n",
    "9-digit PID: 730488173\n",
    "\n",
    "Continuous Improvement embraces a belief there is _always room to make things better_. It is a mindset and process we value and practice in this course. In this assignment, you are able to practice continuous improvement and contribute to the design ideas of the course.\n",
    "\n",
    "## Brainstorming Ideas\n",
    "\n",
    "Reflect on your personal experiences and observations in COMP110 and **brainstorm modifications to the course that _create value_ beyond its current design**. When brainstorming, try not to be critical of the ideas you come up with regarding scale, stakeholders impacted, or for any other reasons. In the markdown cell below, brainstorm 3 to 5 ideas you think would create value for you.\n",
    "\n",
    "Each brainstormed idea should state a. the suggested change or addition, b. what the expected value created, and c. which specific stakeholders would benefit.  If helpful, expand on the following template \"The course should (state idea here) because it will (state value created here) for (insert stakeholders here).\"\n",
    "\n",
    "Example A: \"The course should use only examples from psychology experiments because it will be more relevant for students who are psychology majors.\"\n",
    "\n",
    "Example B: \"The course should not have post-lesson questions because they are not useful for most students in the class.\""
   ]
  },
  {
   "cell_type": "markdown",
   "metadata": {},
   "source": [
    "### Part 1. Creative Ideation\n",
    "\n",
    "1. The course should have more sections and professors because it will allows the instructional staff to focus on students better.\n",
    "2. The course should be fully synchronized because it would benefit the learning quality of the students enrolled.\n",
    "3. The course should give priority enrollment to declared computer science majors, which will benefit the comp sci department of the academic institution.\n",
    "4. The course should provide resources to students that can further their mastery of different programming languages and their applications, which will benefit not only them but the societal workforce.\n",
    "5. The course should make gradescope post lesson questions a completion grade, as these concepts will be on tests anyways, improving the learning experience of students enrolled."
   ]
  },
  {
   "cell_type": "markdown",
   "metadata": {},
   "source": [
    "## Connecting with Available Data\n",
    "\n",
    "The data you have available for this analysis is limited to the anonymized course survey you and your peers filled out a few weeks ago. The data is found in the `survey.csv` file in this exercise directory. Each row represents an individual survey response. Each column has a description which can be found on the project write-up here: <https://22s.comp110.com/exercises/ex08.html>\n",
    "\n",
    "Review the list of available data and identify which one of your ideas _does not_, or is _least likely to_, have relevant data to support the analysis of your idea to create value. In the box below, identify which of your ideas lacks data and suggest how we might be able to collect this data in the future. One aspect of _continuous improvement_ is trying to avoid \"tunnel vision\" where possible improvements are not considered because there is no data available to analyze it. Identifying new data sources can unlock improvements!"
   ]
  },
  {
   "cell_type": "markdown",
   "metadata": {},
   "source": [
    "### Part 2. Identifying Missing Data\n",
    "\n",
    "1. Idea without sufficient data to analyze: Idea number four, \"The course should provide resources to their students that can further their mastery of different programming languages and their applications\" is least likely to have relevant data to support its analysis.\n",
    "\n",
    "2. Suggestion for how to collect data to support this idea in the future: As part of a survey, include a question like: \"Does the course allow me to progress further than what we are learning should I choose to put in the effort?\" From strongly disagree to strongly agree, 1-7."
   ]
  },
  {
   "cell_type": "markdown",
   "metadata": {},
   "source": [
    "## Choosing an Idea to Analyze\n",
    "\n",
    "Consider those of your ideas which _do_ seem likely to have relevant data to analyze. If none of your ideas do, spend a few minutes and brainstorm another idea or two with the added connection of data available on hand and add those ideas to your brainstormed ideas list.\n",
    "\n",
    "Select the one idea which you believe is _most valuable_ to analyze relative to the others and has data to support the analysis of. In the markdown cell for Part 3 below, identify the idea you are exploring and articulate why you believe it is most valuable (e.g. widest impact, biggest opportunity for improvement, simplest change for significant improvement, and so on)."
   ]
  },
  {
   "cell_type": "markdown",
   "metadata": {},
   "source": [
    "### Part 3. Choosing Your Analysis\n",
    "\n",
    "1. Idea to analyze with available data: Idea 2, saying \"The course should be fully synchronized because it would improve the learning quality of the students enrolled\".\n",
    "\n",
    "2. This idea is more valuable than the others brainstormed because: This has several data values from the survey that are relevant and can be analyzed, such as: sync_perf, all_sync,no_hybrid.\n"
   ]
  },
  {
   "cell_type": "markdown",
   "metadata": {},
   "source": [
    "## Your Analysis\n",
    "\n",
    "Before you begin analysis, a reminder that we do not expect the data to support everyone's ideas and you can complete this exercise for full credit even if the data does not clearly support your suggestion or even completely refutes it. What we are looking for is a logical attempt to explore the data using the techniques you have learned up until now in a way that _either_ supports, refutes, or does not have a clear result and then to reflect on your findings after the analysis.\n",
    "\n",
    "Using the utility functions you created for the previous exercise, you will continue with your analysis in the following part. Before you begin, refer to the rubric on the technical expectations of this section in the exercise write-up.\n",
    "\n",
    "In this section, you are expected to interleave code and markdown cells such that for each step of your analysis you are starting with an English description of what you are planning to do next in a markdown cell, followed by a Python cell that performs that step of the analysis."
   ]
  },
  {
   "cell_type": "markdown",
   "metadata": {},
   "source": [
    "### Part 4. Analysis\n",
    "\n",
    "We begin by changing some settings in the notebook to automatically reload changes to imported files."
   ]
  },
  {
   "cell_type": "code",
   "execution_count": 1,
   "metadata": {},
   "outputs": [],
   "source": [
    "%reload_ext autoreload\n",
    "%autoreload 2"
   ]
  },
  {
   "cell_type": "markdown",
   "metadata": {},
   "source": [
    "We continue by importing the helper functions from `data_utils`."
   ]
  },
  {
   "cell_type": "code",
   "execution_count": 28,
   "metadata": {},
   "outputs": [],
   "source": [
    "from data_utils import read_csv_rows, columnar, head, select\n",
    "from tabulate import tabulate"
   ]
  },
  {
   "cell_type": "markdown",
   "metadata": {},
   "source": [
    "Next, ... (you take it from here and add additional code and markdown cells to read in the CSV file and process it as needed)"
   ]
  },
  {
   "cell_type": "code",
   "execution_count": 3,
   "metadata": {},
   "outputs": [],
   "source": [
    "SURVEY_DATA_CSV_FILE_PATH: str = \"../../data/survey.csv\""
   ]
  },
  {
   "cell_type": "markdown",
   "metadata": {},
   "source": [
    "### Rows\n",
    "\n",
    "Here, I will use the `read_csv_rows` function to organize the survey csv file into rows."
   ]
  },
  {
   "cell_type": "code",
   "execution_count": 6,
   "metadata": {},
   "outputs": [],
   "source": [
    "survey_rows: list[dict[str,str]] = read_csv_rows(SURVEY_DATA_CSV_FILE_PATH)"
   ]
  },
  {
   "cell_type": "markdown",
   "metadata": {},
   "source": [
    "### Columnar\n",
    "\n",
    "Here, I use the `columnar` function to organize the file into columns, which is what we will need to look at for the data."
   ]
  },
  {
   "cell_type": "code",
   "execution_count": 9,
   "metadata": {},
   "outputs": [],
   "source": [
    "survey_cols: dict[str, list[str]] = columnar(survey_rows)"
   ]
  },
  {
   "cell_type": "markdown",
   "metadata": {},
   "source": [
    "### Select\n",
    "\n",
    "Now, I am going to take the column-oriented data and focus on the columns I need to analyze my idea. "
   ]
  },
  {
   "cell_type": "code",
   "execution_count": 30,
   "metadata": {},
   "outputs": [],
   "source": [
    "sync_data: dict[str, list[str]] = select(survey_cols, ['sync_perf', 'all_sync','no_hybrid'])"
   ]
  },
  {
   "cell_type": "markdown",
   "metadata": {},
   "source": [
    "### Average function\n",
    "\n",
    "In order to analyze the student response data, I am going to create a function that will return an average value of the student responses between 1 and 7 given parameters of the select column values given, and the name of the column."
   ]
  },
  {
   "cell_type": "code",
   "execution_count": 22,
   "metadata": {},
   "outputs": [],
   "source": [
    "def data_average(data: dict[str, list[str]], column: str) -> float:\n",
    "    data_vals: list[int] = []\n",
    "    for number in data[column]:\n",
    "        data_vals.append(int(number))\n",
    "    sum: int = 0\n",
    "    for val in data_vals:\n",
    "        sum += val\n",
    "    average: float = sum / len(data_vals)\n",
    "    return average"
   ]
  },
  {
   "cell_type": "markdown",
   "metadata": {},
   "source": [
    "### sync_perf average\n",
    "\n",
    "This category keeps track of students' response to the following statement: \"Student's performance in this course would improve if every lecture were synchronous with required attendance during the regularly scheduled meeting time\". The responses were between 1-7, with 1 being Strongly disagree and 7 being strongly agree. Here, I will take an average of all of the responses to gain an understanding of the overall student view of the matter.\n",
    "\n",
    "Edit: The average response is 3.0387\n"
   ]
  },
  {
   "cell_type": "code",
   "execution_count": 23,
   "metadata": {},
   "outputs": [
    {
     "name": "stdout",
     "output_type": "stream",
     "text": [
      "3.0387096774193547\n"
     ]
    }
   ],
   "source": [
    "sync_perf_only: dict[str, list[str]] = select(sync_data, ['sync_perf'])\n",
    "sync_perf_avg: float = data_average(sync_perf_only, 'sync_perf')\n",
    "print(sync_perf_avg)"
   ]
  },
  {
   "cell_type": "markdown",
   "metadata": {},
   "source": [
    "### all_ sync average\n",
    "\n",
    "This category keeps track of students' response to the following statement: \"Students would prefer this course to require every lecture be synchronous with required attendance during the regularly scheduled meeting time.\" Here, I will take an average of all the responses between 1-7.\n",
    "\n",
    "Edit: average is 2.75322"
   ]
  },
  {
   "cell_type": "code",
   "execution_count": 24,
   "metadata": {},
   "outputs": [
    {
     "name": "stdout",
     "output_type": "stream",
     "text": [
      "2.753225806451613\n"
     ]
    }
   ],
   "source": [
    "all_sync_only: dict[str, list[str]] = select(sync_data, ['all_sync'])\n",
    "all_sync_avg: float = data_average(all_sync_only, 'all_sync')\n",
    "print(all_sync_avg)"
   ]
  },
  {
   "cell_type": "markdown",
   "metadata": {},
   "source": [
    "### no_hybrid average\n",
    "\n",
    "This category keeps track of students' response to the following statement: \"Moving forward in the semester, student believes in-person lectures should not be live streamed so that everyone is required to attend in-person. Here, I will take an average of all the responses between 1-7.\n",
    "\n",
    "Edit: average is 2.10806"
   ]
  },
  {
   "cell_type": "code",
   "execution_count": 26,
   "metadata": {},
   "outputs": [
    {
     "name": "stdout",
     "output_type": "stream",
     "text": [
      "2.108064516129032\n"
     ]
    }
   ],
   "source": [
    "no_hybrid_only: dict[str, list[str]] = select(sync_data, ['no_hybrid'])\n",
    "no_hybrid_avg: float = data_average(no_hybrid_only, 'no_hybrid')\n",
    "print(no_hybrid_avg)"
   ]
  },
  {
   "cell_type": "markdown",
   "metadata": {},
   "source": [
    "## Conclusion\n",
    "\n",
    "In the following markdown cell, write a reflective conclusion given the analysis you performed and identify recommendations.\n",
    "\n",
    "If your analysis of the data supports your idea, state your recommendation for the change and summarize the data analysys results you found which support it. Additionally, describe any extensions or refinements to this idea which might be explored further. Finally, discuss the potential costs, trade-offs, or stakeholders who may be negatively impacted by this proposed change.\n",
    "\n",
    "If your analysis of the data is inconclusive, summarize why your data analysis results were inconclusive in the support of your idea. Additionally, describe what experimental idea implementation or additional data collection might help build more confidence in assessing your idea. Finally, discuss the potential costs, trade-offs, or stakeholders who may be negatively impacted by experimenting with your idea.\n",
    "\n",
    "Finally, if your analysis of the data does not support it, summarize your data analysis results and why it refutes your idea. Discuss the potential costs, trade-offs, or stakeholders who may be negatively impacted by this proposed change. If you disagree with the validity of the findings, describe why your idea still makes sense to implement and what alternative data would better support it. If you agree with the validity of the data analysis, describe what alternate ideas or extensions you would explore instead. "
   ]
  },
  {
   "cell_type": "markdown",
   "metadata": {},
   "source": [
    "### Part 5. Conclusion\n",
    "\n"
   ]
  },
  {
   "cell_type": "markdown",
   "metadata": {},
   "source": [
    "My initial idea was that the course should be fully synchronize because it would improve the learning quality for the students enrolled. However, when looking at the data, this appears to not be the case. I based this off of student reactions to three of the questions asked in the survey:\n",
    " 1. \"Student's performance in this course would improve if every lecture were synchronous with required attendance during the regularly scheduled meeting time\"\n",
    "2. \"Students would prefer this course to require every lecture be synchronous with required attendance during the regularly scheduled meeting time.\"\n",
    "3. \"Moving forward in the semester, student believes in-person lectures should not be live streamed so that everyone is required to attend in-person.\"\n",
    "\n",
    "After analyzing the data, the average response to each question was as follows:\n",
    "\n",
    "1. 3.0387 - Somewhat disagree\n",
    "2. 2.75322 - Disagree/somewhat disagree\n",
    "3. 2.10806 - Disagree\n",
    "Among students, it seems that the idea of moving to an all-synchronous learning environment would not be effective in enhancing their learning. The students know what works for them and what doesn't, so the initially proposed idea should not be acted upon, or it would diminish value for the enrolled student stakeholder, and looking at the data, I agree with this.\n",
    "\n",
    "Instead, I think that making asynchronous lesson assignments graded for completion could help with the overall learning experience, because it would further motivate studying for tests. \n"
   ]
  }
 ],
 "metadata": {
  "interpreter": {
   "hash": "aee8b7b246df8f9039afb4144a1f6fd8d2ca17a180786b69acc140d282b71a49"
  },
  "kernelspec": {
   "display_name": "Python 3.10.2 64-bit",
   "language": "python",
   "name": "python3"
  },
  "language_info": {
   "codemirror_mode": {
    "name": "ipython",
    "version": 3
   },
   "file_extension": ".py",
   "mimetype": "text/x-python",
   "name": "python",
   "nbconvert_exporter": "python",
   "pygments_lexer": "ipython3",
   "version": "3.10.1"
  },
  "orig_nbformat": 4
 },
 "nbformat": 4,
 "nbformat_minor": 2
}
